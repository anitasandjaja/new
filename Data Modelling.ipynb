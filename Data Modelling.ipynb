{
 "cells": [
  {
   "cell_type": "code",
   "execution_count": 1,
   "metadata": {},
   "outputs": [],
   "source": [
    "import warnings\n",
    "warnings.filterwarnings('ignore')\n",
    "\n",
    "import plotly.graph_objects as go\n",
    "import plotly.express as px\n",
    "\n",
    "import pandas as pd\n",
    "import numpy as np\n",
    "import matplotlib.pyplot as plt\n",
    "import seaborn as sns\n",
    "from imblearn.over_sampling import SMOTE\n",
    "from mlxtend.plotting import plot_confusion_matrix\n",
    "from sklearn.linear_model import LogisticRegression\n",
    "from sklearn.tree import DecisionTreeClassifier\n",
    "from sklearn.model_selection import train_test_split, GridSearchCV\n",
    "from sklearn.metrics import confusion_matrix\n",
    "from sklearn.metrics import precision_score, accuracy_score, roc_auc_score, f1_score,recall_score, roc_curve, precision_recall_curve, auc\n",
    "from sklearn.ensemble import RandomForestClassifier,GradientBoostingClassifier\n",
    "from sklearn.svm import SVC\n",
    "\n",
    "import joblib\n"
   ]
  },
  {
   "cell_type": "code",
   "execution_count": 2,
   "metadata": {},
   "outputs": [],
   "source": [
    "new_df = pd.read_csv('insured_claims_cleaned.csv')"
   ]
  },
  {
   "cell_type": "code",
   "execution_count": 3,
   "metadata": {},
   "outputs": [],
   "source": [
    "# separate the target column from the features\n",
    "\n",
    "X = new_df.drop('fraud_reported', axis=1)\n",
    "y = new_df['fraud_reported']"
   ]
  },
  {
   "cell_type": "code",
   "execution_count": 4,
   "metadata": {},
   "outputs": [
    {
     "data": {
      "text/html": [
       "<div>\n",
       "<style scoped>\n",
       "    .dataframe tbody tr th:only-of-type {\n",
       "        vertical-align: middle;\n",
       "    }\n",
       "\n",
       "    .dataframe tbody tr th {\n",
       "        vertical-align: top;\n",
       "    }\n",
       "\n",
       "    .dataframe thead th {\n",
       "        text-align: right;\n",
       "    }\n",
       "</style>\n",
       "<table border=\"1\" class=\"dataframe\">\n",
       "  <thead>\n",
       "    <tr style=\"text-align: right;\">\n",
       "      <th></th>\n",
       "      <th>months_as_customer</th>\n",
       "      <th>age</th>\n",
       "      <th>policy_deductable</th>\n",
       "      <th>policy_annual_premium</th>\n",
       "      <th>umbrella_limit</th>\n",
       "      <th>capital-gains</th>\n",
       "      <th>capital-loss</th>\n",
       "      <th>number_of_vehicles_involved</th>\n",
       "      <th>bodily_injuries</th>\n",
       "      <th>witnesses</th>\n",
       "      <th>...</th>\n",
       "      <th>auto_make_Dodge</th>\n",
       "      <th>auto_make_Ford</th>\n",
       "      <th>auto_make_Honda</th>\n",
       "      <th>auto_make_Jeep</th>\n",
       "      <th>auto_make_Mercedes</th>\n",
       "      <th>auto_make_Nissan</th>\n",
       "      <th>auto_make_Saab</th>\n",
       "      <th>auto_make_Suburu</th>\n",
       "      <th>auto_make_Toyota</th>\n",
       "      <th>auto_make_Volkswagen</th>\n",
       "    </tr>\n",
       "  </thead>\n",
       "  <tbody>\n",
       "    <tr>\n",
       "      <th>0</th>\n",
       "      <td>328</td>\n",
       "      <td>48</td>\n",
       "      <td>1000</td>\n",
       "      <td>1406.91</td>\n",
       "      <td>0</td>\n",
       "      <td>53300</td>\n",
       "      <td>0</td>\n",
       "      <td>1</td>\n",
       "      <td>1</td>\n",
       "      <td>2</td>\n",
       "      <td>...</td>\n",
       "      <td>0</td>\n",
       "      <td>0</td>\n",
       "      <td>0</td>\n",
       "      <td>0</td>\n",
       "      <td>0</td>\n",
       "      <td>0</td>\n",
       "      <td>1</td>\n",
       "      <td>0</td>\n",
       "      <td>0</td>\n",
       "      <td>0</td>\n",
       "    </tr>\n",
       "    <tr>\n",
       "      <th>1</th>\n",
       "      <td>228</td>\n",
       "      <td>42</td>\n",
       "      <td>2000</td>\n",
       "      <td>1197.22</td>\n",
       "      <td>5000000</td>\n",
       "      <td>0</td>\n",
       "      <td>0</td>\n",
       "      <td>1</td>\n",
       "      <td>0</td>\n",
       "      <td>0</td>\n",
       "      <td>...</td>\n",
       "      <td>0</td>\n",
       "      <td>0</td>\n",
       "      <td>0</td>\n",
       "      <td>0</td>\n",
       "      <td>1</td>\n",
       "      <td>0</td>\n",
       "      <td>0</td>\n",
       "      <td>0</td>\n",
       "      <td>0</td>\n",
       "      <td>0</td>\n",
       "    </tr>\n",
       "    <tr>\n",
       "      <th>2</th>\n",
       "      <td>134</td>\n",
       "      <td>29</td>\n",
       "      <td>2000</td>\n",
       "      <td>1413.14</td>\n",
       "      <td>5000000</td>\n",
       "      <td>35100</td>\n",
       "      <td>0</td>\n",
       "      <td>3</td>\n",
       "      <td>2</td>\n",
       "      <td>3</td>\n",
       "      <td>...</td>\n",
       "      <td>1</td>\n",
       "      <td>0</td>\n",
       "      <td>0</td>\n",
       "      <td>0</td>\n",
       "      <td>0</td>\n",
       "      <td>0</td>\n",
       "      <td>0</td>\n",
       "      <td>0</td>\n",
       "      <td>0</td>\n",
       "      <td>0</td>\n",
       "    </tr>\n",
       "    <tr>\n",
       "      <th>3</th>\n",
       "      <td>256</td>\n",
       "      <td>41</td>\n",
       "      <td>2000</td>\n",
       "      <td>1415.74</td>\n",
       "      <td>6000000</td>\n",
       "      <td>48900</td>\n",
       "      <td>-62400</td>\n",
       "      <td>1</td>\n",
       "      <td>1</td>\n",
       "      <td>2</td>\n",
       "      <td>...</td>\n",
       "      <td>0</td>\n",
       "      <td>0</td>\n",
       "      <td>0</td>\n",
       "      <td>0</td>\n",
       "      <td>0</td>\n",
       "      <td>0</td>\n",
       "      <td>0</td>\n",
       "      <td>0</td>\n",
       "      <td>0</td>\n",
       "      <td>0</td>\n",
       "    </tr>\n",
       "    <tr>\n",
       "      <th>4</th>\n",
       "      <td>228</td>\n",
       "      <td>44</td>\n",
       "      <td>1000</td>\n",
       "      <td>1583.91</td>\n",
       "      <td>6000000</td>\n",
       "      <td>66000</td>\n",
       "      <td>-46000</td>\n",
       "      <td>1</td>\n",
       "      <td>0</td>\n",
       "      <td>1</td>\n",
       "      <td>...</td>\n",
       "      <td>0</td>\n",
       "      <td>0</td>\n",
       "      <td>0</td>\n",
       "      <td>0</td>\n",
       "      <td>0</td>\n",
       "      <td>0</td>\n",
       "      <td>0</td>\n",
       "      <td>0</td>\n",
       "      <td>0</td>\n",
       "      <td>0</td>\n",
       "    </tr>\n",
       "    <tr>\n",
       "      <th>...</th>\n",
       "      <td>...</td>\n",
       "      <td>...</td>\n",
       "      <td>...</td>\n",
       "      <td>...</td>\n",
       "      <td>...</td>\n",
       "      <td>...</td>\n",
       "      <td>...</td>\n",
       "      <td>...</td>\n",
       "      <td>...</td>\n",
       "      <td>...</td>\n",
       "      <td>...</td>\n",
       "      <td>...</td>\n",
       "      <td>...</td>\n",
       "      <td>...</td>\n",
       "      <td>...</td>\n",
       "      <td>...</td>\n",
       "      <td>...</td>\n",
       "      <td>...</td>\n",
       "      <td>...</td>\n",
       "      <td>...</td>\n",
       "      <td>...</td>\n",
       "    </tr>\n",
       "    <tr>\n",
       "      <th>995</th>\n",
       "      <td>3</td>\n",
       "      <td>38</td>\n",
       "      <td>1000</td>\n",
       "      <td>1310.80</td>\n",
       "      <td>0</td>\n",
       "      <td>0</td>\n",
       "      <td>0</td>\n",
       "      <td>1</td>\n",
       "      <td>0</td>\n",
       "      <td>1</td>\n",
       "      <td>...</td>\n",
       "      <td>0</td>\n",
       "      <td>0</td>\n",
       "      <td>1</td>\n",
       "      <td>0</td>\n",
       "      <td>0</td>\n",
       "      <td>0</td>\n",
       "      <td>0</td>\n",
       "      <td>0</td>\n",
       "      <td>0</td>\n",
       "      <td>0</td>\n",
       "    </tr>\n",
       "    <tr>\n",
       "      <th>996</th>\n",
       "      <td>285</td>\n",
       "      <td>41</td>\n",
       "      <td>1000</td>\n",
       "      <td>1436.79</td>\n",
       "      <td>0</td>\n",
       "      <td>70900</td>\n",
       "      <td>0</td>\n",
       "      <td>1</td>\n",
       "      <td>2</td>\n",
       "      <td>3</td>\n",
       "      <td>...</td>\n",
       "      <td>0</td>\n",
       "      <td>0</td>\n",
       "      <td>0</td>\n",
       "      <td>0</td>\n",
       "      <td>0</td>\n",
       "      <td>0</td>\n",
       "      <td>0</td>\n",
       "      <td>0</td>\n",
       "      <td>0</td>\n",
       "      <td>1</td>\n",
       "    </tr>\n",
       "    <tr>\n",
       "      <th>997</th>\n",
       "      <td>130</td>\n",
       "      <td>34</td>\n",
       "      <td>500</td>\n",
       "      <td>1383.49</td>\n",
       "      <td>3000000</td>\n",
       "      <td>35100</td>\n",
       "      <td>0</td>\n",
       "      <td>3</td>\n",
       "      <td>2</td>\n",
       "      <td>3</td>\n",
       "      <td>...</td>\n",
       "      <td>0</td>\n",
       "      <td>0</td>\n",
       "      <td>0</td>\n",
       "      <td>0</td>\n",
       "      <td>0</td>\n",
       "      <td>0</td>\n",
       "      <td>0</td>\n",
       "      <td>1</td>\n",
       "      <td>0</td>\n",
       "      <td>0</td>\n",
       "    </tr>\n",
       "    <tr>\n",
       "      <th>998</th>\n",
       "      <td>458</td>\n",
       "      <td>62</td>\n",
       "      <td>2000</td>\n",
       "      <td>1356.92</td>\n",
       "      <td>5000000</td>\n",
       "      <td>0</td>\n",
       "      <td>0</td>\n",
       "      <td>1</td>\n",
       "      <td>0</td>\n",
       "      <td>1</td>\n",
       "      <td>...</td>\n",
       "      <td>0</td>\n",
       "      <td>0</td>\n",
       "      <td>0</td>\n",
       "      <td>0</td>\n",
       "      <td>0</td>\n",
       "      <td>0</td>\n",
       "      <td>0</td>\n",
       "      <td>0</td>\n",
       "      <td>0</td>\n",
       "      <td>0</td>\n",
       "    </tr>\n",
       "    <tr>\n",
       "      <th>999</th>\n",
       "      <td>456</td>\n",
       "      <td>60</td>\n",
       "      <td>1000</td>\n",
       "      <td>766.19</td>\n",
       "      <td>0</td>\n",
       "      <td>0</td>\n",
       "      <td>0</td>\n",
       "      <td>1</td>\n",
       "      <td>0</td>\n",
       "      <td>3</td>\n",
       "      <td>...</td>\n",
       "      <td>0</td>\n",
       "      <td>0</td>\n",
       "      <td>0</td>\n",
       "      <td>0</td>\n",
       "      <td>1</td>\n",
       "      <td>0</td>\n",
       "      <td>0</td>\n",
       "      <td>0</td>\n",
       "      <td>0</td>\n",
       "      <td>0</td>\n",
       "    </tr>\n",
       "  </tbody>\n",
       "</table>\n",
       "<p>1000 rows × 110 columns</p>\n",
       "</div>"
      ],
      "text/plain": [
       "     months_as_customer  age  policy_deductable  policy_annual_premium  \\\n",
       "0                   328   48               1000                1406.91   \n",
       "1                   228   42               2000                1197.22   \n",
       "2                   134   29               2000                1413.14   \n",
       "3                   256   41               2000                1415.74   \n",
       "4                   228   44               1000                1583.91   \n",
       "..                  ...  ...                ...                    ...   \n",
       "995                   3   38               1000                1310.80   \n",
       "996                 285   41               1000                1436.79   \n",
       "997                 130   34                500                1383.49   \n",
       "998                 458   62               2000                1356.92   \n",
       "999                 456   60               1000                 766.19   \n",
       "\n",
       "     umbrella_limit  capital-gains  capital-loss  number_of_vehicles_involved  \\\n",
       "0                 0          53300             0                            1   \n",
       "1           5000000              0             0                            1   \n",
       "2           5000000          35100             0                            3   \n",
       "3           6000000          48900        -62400                            1   \n",
       "4           6000000          66000        -46000                            1   \n",
       "..              ...            ...           ...                          ...   \n",
       "995               0              0             0                            1   \n",
       "996               0          70900             0                            1   \n",
       "997         3000000          35100             0                            3   \n",
       "998         5000000              0             0                            1   \n",
       "999               0              0             0                            1   \n",
       "\n",
       "     bodily_injuries  witnesses  ...  auto_make_Dodge  auto_make_Ford  \\\n",
       "0                  1          2  ...                0               0   \n",
       "1                  0          0  ...                0               0   \n",
       "2                  2          3  ...                1               0   \n",
       "3                  1          2  ...                0               0   \n",
       "4                  0          1  ...                0               0   \n",
       "..               ...        ...  ...              ...             ...   \n",
       "995                0          1  ...                0               0   \n",
       "996                2          3  ...                0               0   \n",
       "997                2          3  ...                0               0   \n",
       "998                0          1  ...                0               0   \n",
       "999                0          3  ...                0               0   \n",
       "\n",
       "     auto_make_Honda  auto_make_Jeep  auto_make_Mercedes  auto_make_Nissan  \\\n",
       "0                  0               0                   0                 0   \n",
       "1                  0               0                   1                 0   \n",
       "2                  0               0                   0                 0   \n",
       "3                  0               0                   0                 0   \n",
       "4                  0               0                   0                 0   \n",
       "..               ...             ...                 ...               ...   \n",
       "995                1               0                   0                 0   \n",
       "996                0               0                   0                 0   \n",
       "997                0               0                   0                 0   \n",
       "998                0               0                   0                 0   \n",
       "999                0               0                   1                 0   \n",
       "\n",
       "     auto_make_Saab  auto_make_Suburu  auto_make_Toyota  auto_make_Volkswagen  \n",
       "0                 1                 0                 0                     0  \n",
       "1                 0                 0                 0                     0  \n",
       "2                 0                 0                 0                     0  \n",
       "3                 0                 0                 0                     0  \n",
       "4                 0                 0                 0                     0  \n",
       "..              ...               ...               ...                   ...  \n",
       "995               0                 0                 0                     0  \n",
       "996               0                 0                 0                     1  \n",
       "997               0                 1                 0                     0  \n",
       "998               0                 0                 0                     0  \n",
       "999               0                 0                 0                     0  \n",
       "\n",
       "[1000 rows x 110 columns]"
      ]
     },
     "execution_count": 4,
     "metadata": {},
     "output_type": "execute_result"
    }
   ],
   "source": [
    "X"
   ]
  },
  {
   "cell_type": "code",
   "execution_count": 5,
   "metadata": {},
   "outputs": [
    {
     "name": "stdout",
     "output_type": "stream",
     "text": [
      "<class 'pandas.core.frame.DataFrame'>\n",
      "RangeIndex: 1000 entries, 0 to 999\n",
      "Columns: 110 entries, months_as_customer to auto_make_Volkswagen\n",
      "dtypes: float64(1), int64(109)\n",
      "memory usage: 859.5 KB\n"
     ]
    }
   ],
   "source": [
    "X.info()"
   ]
  },
  {
   "cell_type": "code",
   "execution_count": 6,
   "metadata": {},
   "outputs": [
    {
     "data": {
      "text/plain": [
       "0      1\n",
       "1      1\n",
       "2      0\n",
       "3      1\n",
       "4      0\n",
       "      ..\n",
       "995    0\n",
       "996    0\n",
       "997    0\n",
       "998    0\n",
       "999    0\n",
       "Name: fraud_reported, Length: 1000, dtype: int64"
      ]
     },
     "execution_count": 6,
     "metadata": {},
     "output_type": "execute_result"
    }
   ],
   "source": [
    "y"
   ]
  },
  {
   "cell_type": "markdown",
   "metadata": {},
   "source": [
    "## Scaling"
   ]
  },
  {
   "cell_type": "code",
   "execution_count": 7,
   "metadata": {},
   "outputs": [],
   "source": [
    "from sklearn.preprocessing import StandardScaler\n",
    "\n",
    "scaler = StandardScaler(with_mean=False)\n",
    "X_scaled = scaler.fit_transform(X)"
   ]
  },
  {
   "cell_type": "code",
   "execution_count": 8,
   "metadata": {},
   "outputs": [],
   "source": [
    "X_train, X_test, y_train, y_test = train_test_split(X_scaled, y, test_size=.2,random_state = 123)"
   ]
  },
  {
   "cell_type": "code",
   "execution_count": 9,
   "metadata": {},
   "outputs": [
    {
     "data": {
      "text/plain": [
       "(800, 110)"
      ]
     },
     "execution_count": 9,
     "metadata": {},
     "output_type": "execute_result"
    }
   ],
   "source": [
    "X_train.shape"
   ]
  },
  {
   "cell_type": "markdown",
   "metadata": {},
   "source": [
    "## Logistic Regression"
   ]
  },
  {
   "cell_type": "code",
   "execution_count": 10,
   "metadata": {},
   "outputs": [
    {
     "name": "stdout",
     "output_type": "stream",
     "text": [
      "0.815\n"
     ]
    }
   ],
   "source": [
    "lr = LogisticRegression(class_weight=\"balanced\", solver=\"liblinear\", random_state=42)\n",
    "\n",
    "lr.fit(X_train, y_train)\n",
    "preds = lr.predict(X_test)\n",
    "\n",
    "score = lr.score(X_test, y_test)\n",
    "print(score)"
   ]
  },
  {
   "cell_type": "code",
   "execution_count": 11,
   "metadata": {},
   "outputs": [
    {
     "name": "stdout",
     "output_type": "stream",
     "text": [
      "              precision    recall  f1-score   support\n",
      "\n",
      "           0       0.91      0.85      0.88       155\n",
      "           1       0.57      0.71      0.63        45\n",
      "\n",
      "    accuracy                           0.81       200\n",
      "   macro avg       0.74      0.78      0.75       200\n",
      "weighted avg       0.83      0.81      0.82       200\n",
      "\n"
     ]
    }
   ],
   "source": [
    "from sklearn.metrics import classification_report\n",
    "print(classification_report(y_test, preds))"
   ]
  },
  {
   "cell_type": "markdown",
   "metadata": {},
   "source": [
    "## SMOTE"
   ]
  },
  {
   "cell_type": "code",
   "execution_count": 12,
   "metadata": {},
   "outputs": [],
   "source": [
    "oversample = SMOTE(random_state=9)\n",
    "X_over, y_over = oversample.fit_resample(X_scaled, y)"
   ]
  },
  {
   "cell_type": "code",
   "execution_count": 13,
   "metadata": {},
   "outputs": [],
   "source": [
    "X_train, X_test, y_train, y_test = train_test_split(X_over, y_over, random_state = 1)"
   ]
  },
  {
   "cell_type": "markdown",
   "metadata": {},
   "source": [
    "## Logistic Regression after SMOTE - Oversampling"
   ]
  },
  {
   "cell_type": "code",
   "execution_count": 14,
   "metadata": {},
   "outputs": [
    {
     "name": "stdout",
     "output_type": "stream",
     "text": [
      "0.843501326259947\n",
      "\n",
      "              precision    recall  f1-score   support\n",
      "\n",
      "           0       0.87      0.84      0.85       201\n",
      "           1       0.82      0.85      0.84       176\n",
      "\n",
      "    accuracy                           0.84       377\n",
      "   macro avg       0.84      0.84      0.84       377\n",
      "weighted avg       0.84      0.84      0.84       377\n",
      "\n"
     ]
    }
   ],
   "source": [
    "lr.fit(X_train, y_train)\n",
    "preds = lr.predict(X_test)\n",
    "score = lr.score(X_test, y_test)\n",
    "print(score)\n",
    "print()\n",
    "print(classification_report(y_test, preds))"
   ]
  },
  {
   "cell_type": "markdown",
   "metadata": {},
   "source": [
    "## Decision Tree Classifier"
   ]
  },
  {
   "cell_type": "code",
   "execution_count": 15,
   "metadata": {},
   "outputs": [
    {
     "name": "stdout",
     "output_type": "stream",
     "text": [
      "0.8461538461538461\n",
      "\n",
      "              precision    recall  f1-score   support\n",
      "\n",
      "           0       0.86      0.85      0.85       201\n",
      "           1       0.83      0.85      0.84       176\n",
      "\n",
      "    accuracy                           0.85       377\n",
      "   macro avg       0.85      0.85      0.85       377\n",
      "weighted avg       0.85      0.85      0.85       377\n",
      "\n"
     ]
    }
   ],
   "source": [
    "dtc = DecisionTreeClassifier(class_weight=\"balanced\")\n",
    "\n",
    "dtc.fit(X_train, y_train)\n",
    "preds = dtc.predict(X_test)\n",
    "\n",
    "score = dtc.score(X_test, y_test)\n",
    "print(score)\n",
    "print()\n",
    "print(classification_report(y_test, preds))"
   ]
  },
  {
   "cell_type": "markdown",
   "metadata": {},
   "source": [
    "## Random Forest Classifier"
   ]
  },
  {
   "cell_type": "code",
   "execution_count": 16,
   "metadata": {},
   "outputs": [
    {
     "data": {
      "text/plain": [
       "RandomForestClassifier(bootstrap=True, ccp_alpha=0.0, class_weight='balanced',\n",
       "                       criterion='gini', max_depth=None, max_features='auto',\n",
       "                       max_leaf_nodes=None, max_samples=None,\n",
       "                       min_impurity_decrease=0.0, min_impurity_split=None,\n",
       "                       min_samples_leaf=1, min_samples_split=2,\n",
       "                       min_weight_fraction_leaf=0.0, n_estimators=100,\n",
       "                       n_jobs=-1, oob_score=False, random_state=42, verbose=0,\n",
       "                       warm_start=False)"
      ]
     },
     "execution_count": 16,
     "metadata": {},
     "output_type": "execute_result"
    }
   ],
   "source": [
    "rfc = RandomForestClassifier(class_weight=\"balanced\", n_estimators=100, random_state = 42, n_jobs=-1)\n",
    "rfc.fit(X_train, y_train) "
   ]
  },
  {
   "cell_type": "code",
   "execution_count": 17,
   "metadata": {},
   "outputs": [
    {
     "name": "stdout",
     "output_type": "stream",
     "text": [
      "87.79840848806366\n",
      "\n",
      "              precision    recall  f1-score   support\n",
      "\n",
      "           0       0.91      0.86      0.88       201\n",
      "           1       0.85      0.90      0.87       176\n",
      "\n",
      "    accuracy                           0.88       377\n",
      "   macro avg       0.88      0.88      0.88       377\n",
      "weighted avg       0.88      0.88      0.88       377\n",
      "\n"
     ]
    }
   ],
   "source": [
    "preds = rfc.predict(X_test)\n",
    "\n",
    "score = rfc.score(X_test, y_test)\n",
    "print(score*100)\n",
    "print()\n",
    "print(classification_report(y_test, preds))"
   ]
  },
  {
   "cell_type": "markdown",
   "metadata": {},
   "source": [
    "## SVC "
   ]
  },
  {
   "cell_type": "code",
   "execution_count": 18,
   "metadata": {},
   "outputs": [
    {
     "name": "stdout",
     "output_type": "stream",
     "text": [
      "0.8620689655172413\n",
      "\n",
      "              precision    recall  f1-score   support\n",
      "\n",
      "           0       0.89      0.85      0.87       201\n",
      "           1       0.84      0.88      0.86       176\n",
      "\n",
      "    accuracy                           0.86       377\n",
      "   macro avg       0.86      0.86      0.86       377\n",
      "weighted avg       0.86      0.86      0.86       377\n",
      "\n"
     ]
    }
   ],
   "source": [
    "svc = SVC(kernel='linear')\n",
    "svc.fit(X_train, y_train)\n",
    "\n",
    "preds = svc.predict(X_test)\n",
    "\n",
    "score = svc.score(X_test, y_test)\n",
    "print(score)\n",
    "print()\n",
    "print(classification_report(y_test, preds))"
   ]
  },
  {
   "cell_type": "markdown",
   "metadata": {},
   "source": [
    "## GradientBoostClassifier"
   ]
  },
  {
   "cell_type": "code",
   "execution_count": 19,
   "metadata": {},
   "outputs": [
    {
     "data": {
      "text/plain": [
       "GradientBoostingClassifier(ccp_alpha=0.0, criterion='friedman_mse', init=None,\n",
       "                           learning_rate=0.2, loss='exponential', max_depth=4,\n",
       "                           max_features='auto', max_leaf_nodes=5,\n",
       "                           min_impurity_decrease=0.1, min_impurity_split=None,\n",
       "                           min_samples_leaf=3, min_samples_split=2,\n",
       "                           min_weight_fraction_leaf=0.1, n_estimators=500,\n",
       "                           n_iter_no_change=None, presort='deprecated',\n",
       "                           random_state=2, subsample=0.5, tol=0.0001,\n",
       "                           validation_fraction=0.1, verbose=0, warm_start=True)"
      ]
     },
     "execution_count": 19,
     "metadata": {},
     "output_type": "execute_result"
    }
   ],
   "source": [
    "gradient = GradientBoostingClassifier(loss='exponential',learning_rate = 0.2,n_estimators=500,\n",
    "                                      subsample=0.5,criterion='friedman_mse',\n",
    "                                     min_samples_leaf=3,min_weight_fraction_leaf=0.1,\n",
    "                                     max_depth=4,min_impurity_decrease=0.1,\n",
    "                                     random_state=2,max_features='auto',max_leaf_nodes=5,\n",
    "                                     warm_start=True,validation_fraction=0.1)\n",
    "gradient.fit(X_train, y_train)"
   ]
  },
  {
   "cell_type": "code",
   "execution_count": 20,
   "metadata": {},
   "outputs": [
    {
     "name": "stdout",
     "output_type": "stream",
     "text": [
      "84.88063660477454\n",
      "\n",
      "              precision    recall  f1-score   support\n",
      "\n",
      "           0       0.85      0.87      0.86       201\n",
      "           1       0.84      0.83      0.84       176\n",
      "\n",
      "    accuracy                           0.85       377\n",
      "   macro avg       0.85      0.85      0.85       377\n",
      "weighted avg       0.85      0.85      0.85       377\n",
      "\n"
     ]
    }
   ],
   "source": [
    "preds = gradient.predict(X_test)\n",
    "\n",
    "score = gradient.score(X_test, y_test)\n",
    "print(score*100)\n",
    "print()\n",
    "print(classification_report(y_test, preds))"
   ]
  },
  {
   "cell_type": "markdown",
   "metadata": {},
   "source": [
    "## Hyperparametertuning Random Forest and SVC"
   ]
  },
  {
   "cell_type": "code",
   "execution_count": 21,
   "metadata": {},
   "outputs": [
    {
     "name": "stdout",
     "output_type": "stream",
     "text": [
      "Fitting 3 folds for each of 500 candidates, totalling 1500 fits\n"
     ]
    },
    {
     "name": "stderr",
     "output_type": "stream",
     "text": [
      "[Parallel(n_jobs=-1)]: Using backend LokyBackend with 8 concurrent workers.\n",
      "[Parallel(n_jobs=-1)]: Done  34 tasks      | elapsed:   16.2s\n",
      "[Parallel(n_jobs=-1)]: Done 184 tasks      | elapsed:  1.3min\n",
      "[Parallel(n_jobs=-1)]: Done 434 tasks      | elapsed:  3.0min\n",
      "[Parallel(n_jobs=-1)]: Done 784 tasks      | elapsed:  5.7min\n",
      "[Parallel(n_jobs=-1)]: Done 1234 tasks      | elapsed:  8.9min\n",
      "[Parallel(n_jobs=-1)]: Done 1500 out of 1500 | elapsed: 10.8min finished\n"
     ]
    }
   ],
   "source": [
    "from sklearn.model_selection import GridSearchCV\n",
    "\n",
    "n_estimators = [100, 300, 500, 800, 1200]\n",
    "max_depth = [5, 8, 15, 25, 30]\n",
    "min_samples_split = [2, 5, 10, 15, 100]\n",
    "min_samples_leaf = [1, 2, 5, 10] \n",
    "\n",
    "hyper = dict(n_estimators = n_estimators, max_depth = max_depth,  \n",
    "              min_samples_split = min_samples_split, \n",
    "             min_samples_leaf = min_samples_leaf)\n",
    "\n",
    "grid = GridSearchCV(rfc, hyper, cv = 3, verbose = 1, \n",
    "                      n_jobs = -1)\n",
    "best = grid.fit(X_train, y_train)"
   ]
  },
  {
   "cell_type": "code",
   "execution_count": 22,
   "metadata": {},
   "outputs": [
    {
     "name": "stdout",
     "output_type": "stream",
     "text": [
      "GridSearchCV(cv=3, error_score=nan,\n",
      "             estimator=RandomForestClassifier(bootstrap=True, ccp_alpha=0.0,\n",
      "                                              class_weight='balanced',\n",
      "                                              criterion='gini', max_depth=None,\n",
      "                                              max_features='auto',\n",
      "                                              max_leaf_nodes=None,\n",
      "                                              max_samples=None,\n",
      "                                              min_impurity_decrease=0.0,\n",
      "                                              min_impurity_split=None,\n",
      "                                              min_samples_leaf=1,\n",
      "                                              min_samples_split=2,\n",
      "                                              min_weight_fraction_leaf=0.0,\n",
      "                                              n_estimators=100, n_jobs=-1,\n",
      "                                              oob_score=False, random_state=42,\n",
      "                                              verbose=0, warm_start=False),\n",
      "             iid='deprecated', n_jobs=-1,\n",
      "             param_grid={'max_depth': [5, 8, 15, 25, 30],\n",
      "                         'min_samples_leaf': [1, 2, 5, 10],\n",
      "                         'min_samples_split': [2, 5, 10, 15, 100],\n",
      "                         'n_estimators': [100, 300, 500, 800, 1200]},\n",
      "             pre_dispatch='2*n_jobs', refit=True, return_train_score=False,\n",
      "             scoring=None, verbose=1)\n"
     ]
    }
   ],
   "source": [
    "print(best)"
   ]
  },
  {
   "cell_type": "code",
   "execution_count": 23,
   "metadata": {},
   "outputs": [
    {
     "name": "stdout",
     "output_type": "stream",
     "text": [
      "Score: 0.8779840848806366\n",
      "\n",
      "              precision    recall  f1-score   support\n",
      "\n",
      "           0       0.90      0.87      0.88       201\n",
      "           1       0.85      0.89      0.87       176\n",
      "\n",
      "    accuracy                           0.88       377\n",
      "   macro avg       0.88      0.88      0.88       377\n",
      "weighted avg       0.88      0.88      0.88       377\n",
      "\n"
     ]
    }
   ],
   "source": [
    "rfc_tuned = RandomForestClassifier(bootstrap=True, ccp_alpha=0.0,\n",
    "                                              class_weight='balanced',\n",
    "                                              criterion='gini', max_depth=None,\n",
    "                                              max_features='auto',\n",
    "                                              max_leaf_nodes=None,\n",
    "                                              max_samples=None,\n",
    "                                              min_impurity_decrease=0.0,\n",
    "                                              min_impurity_split=None,\n",
    "                                              min_samples_leaf=1,\n",
    "                                              min_samples_split=2,\n",
    "                                              min_weight_fraction_leaf=0.0,\n",
    "                                              n_estimators=100, n_jobs=-1,\n",
    "                                              oob_score=False,\n",
    "                                              random_state=None, verbose=0,\n",
    "                                              warm_start=False)\n",
    "\n",
    "rfc_tuned.fit(X_train, y_train)\n",
    "preds_tuned = rfc_tuned.predict(X_test)\n",
    "\n",
    "print('Score:' , rfc_tuned.score(X_test, y_test))\n",
    "print('')\n",
    "print(classification_report(y_test, preds_tuned))\n"
   ]
  },
  {
   "cell_type": "code",
   "execution_count": 24,
   "metadata": {},
   "outputs": [
    {
     "name": "stdout",
     "output_type": "stream",
     "text": [
      "Score with degree as 6, kernel as poly, C as 1 is best\n"
     ]
    }
   ],
   "source": [
    "degrees = [2,3,4,5,6,7,8]\n",
    "kernels = ['poly', 'rbf', 'sigmoid']\n",
    "c_value = [1,2,3]\n",
    "\n",
    "scores = {}\n",
    "for degree in degrees:\n",
    "    for kernel in kernels:\n",
    "        for c in c_value:\n",
    "            svc_t = SVC(kernel = kernel, degree = degree, C = c)\n",
    "            svc_t.fit(X_train, y_train)\n",
    "            \n",
    "            preds = svc_t.predict(X_test)\n",
    "            score = svc_t.score(X_test,y_test)\n",
    "#             print('Score with degree as {d}, kernel as {k}, C as {c} is:'.format(d = degree, k = kernel, c = c), score)\n",
    "            scores['Score with degree as {d}, kernel as {k}, C as {c} is best'.format(d = degree, k = kernel, c = c)] = score\n",
    "\n",
    "print(max(scores, key=scores.get))"
   ]
  },
  {
   "cell_type": "code",
   "execution_count": 25,
   "metadata": {},
   "outputs": [
    {
     "name": "stdout",
     "output_type": "stream",
     "text": [
      "Score: 0.9204244031830239\n",
      "\n",
      "              precision    recall  f1-score   support\n",
      "\n",
      "           0       0.99      0.86      0.92       201\n",
      "           1       0.86      0.99      0.92       176\n",
      "\n",
      "    accuracy                           0.92       377\n",
      "   macro avg       0.93      0.93      0.92       377\n",
      "weighted avg       0.93      0.92      0.92       377\n",
      "\n"
     ]
    }
   ],
   "source": [
    "svc_tuned = SVC(kernel='poly', degree = 6, C = 1, probability=True)\n",
    "svc_tuned.fit(X_train, y_train)\n",
    "\n",
    "preds = svc_tuned.predict(X_test)\n",
    "\n",
    "print('Score:' , svc_tuned.score(X_test, y_test))\n",
    "print('')\n",
    "print(classification_report(y_test, preds))"
   ]
  },
  {
   "cell_type": "markdown",
   "metadata": {},
   "source": [
    "<hr>\n",
    "\n",
    "### Final Model Visualization"
   ]
  },
  {
   "cell_type": "code",
   "execution_count": 26,
   "metadata": {},
   "outputs": [
    {
     "data": {
      "text/html": [
       "<div>\n",
       "<style scoped>\n",
       "    .dataframe tbody tr th:only-of-type {\n",
       "        vertical-align: middle;\n",
       "    }\n",
       "\n",
       "    .dataframe tbody tr th {\n",
       "        vertical-align: top;\n",
       "    }\n",
       "\n",
       "    .dataframe thead th {\n",
       "        text-align: right;\n",
       "    }\n",
       "</style>\n",
       "<table border=\"1\" class=\"dataframe\">\n",
       "  <thead>\n",
       "    <tr style=\"text-align: right;\">\n",
       "      <th></th>\n",
       "      <th>index</th>\n",
       "      <th>actual</th>\n",
       "      <th>pred</th>\n",
       "    </tr>\n",
       "  </thead>\n",
       "  <tbody>\n",
       "    <tr>\n",
       "      <th>0</th>\n",
       "      <td>680</td>\n",
       "      <td>0</td>\n",
       "      <td>0</td>\n",
       "    </tr>\n",
       "    <tr>\n",
       "      <th>1</th>\n",
       "      <td>902</td>\n",
       "      <td>0</td>\n",
       "      <td>0</td>\n",
       "    </tr>\n",
       "    <tr>\n",
       "      <th>2</th>\n",
       "      <td>231</td>\n",
       "      <td>0</td>\n",
       "      <td>0</td>\n",
       "    </tr>\n",
       "    <tr>\n",
       "      <th>3</th>\n",
       "      <td>675</td>\n",
       "      <td>0</td>\n",
       "      <td>0</td>\n",
       "    </tr>\n",
       "    <tr>\n",
       "      <th>4</th>\n",
       "      <td>390</td>\n",
       "      <td>0</td>\n",
       "      <td>0</td>\n",
       "    </tr>\n",
       "    <tr>\n",
       "      <th>...</th>\n",
       "      <td>...</td>\n",
       "      <td>...</td>\n",
       "      <td>...</td>\n",
       "    </tr>\n",
       "    <tr>\n",
       "      <th>372</th>\n",
       "      <td>1154</td>\n",
       "      <td>1</td>\n",
       "      <td>1</td>\n",
       "    </tr>\n",
       "    <tr>\n",
       "      <th>373</th>\n",
       "      <td>1454</td>\n",
       "      <td>1</td>\n",
       "      <td>1</td>\n",
       "    </tr>\n",
       "    <tr>\n",
       "      <th>374</th>\n",
       "      <td>1271</td>\n",
       "      <td>1</td>\n",
       "      <td>1</td>\n",
       "    </tr>\n",
       "    <tr>\n",
       "      <th>375</th>\n",
       "      <td>703</td>\n",
       "      <td>1</td>\n",
       "      <td>1</td>\n",
       "    </tr>\n",
       "    <tr>\n",
       "      <th>376</th>\n",
       "      <td>227</td>\n",
       "      <td>1</td>\n",
       "      <td>1</td>\n",
       "    </tr>\n",
       "  </tbody>\n",
       "</table>\n",
       "<p>377 rows × 3 columns</p>\n",
       "</div>"
      ],
      "text/plain": [
       "     index  actual  pred\n",
       "0      680       0     0\n",
       "1      902       0     0\n",
       "2      231       0     0\n",
       "3      675       0     0\n",
       "4      390       0     0\n",
       "..     ...     ...   ...\n",
       "372   1154       1     1\n",
       "373   1454       1     1\n",
       "374   1271       1     1\n",
       "375    703       1     1\n",
       "376    227       1     1\n",
       "\n",
       "[377 rows x 3 columns]"
      ]
     },
     "execution_count": 26,
     "metadata": {},
     "output_type": "execute_result"
    }
   ],
   "source": [
    "ypr = svc_tuned.predict(X_test)\n",
    "trial = pd.DataFrame({'actual': y_test, 'pred': ypr}, dtype='int64')\n",
    "trial.sort_values('actual',inplace=True)\n",
    "trial.reset_index(inplace=True)\n",
    "trial"
   ]
  },
  {
   "cell_type": "markdown",
   "metadata": {},
   "source": [
    "### Check Confusion Matrix from Best Model Trained"
   ]
  },
  {
   "cell_type": "code",
   "execution_count": 27,
   "metadata": {},
   "outputs": [
    {
     "name": "stdout",
     "output_type": "stream",
     "text": [
      "TP:  175\n",
      "TN:  172\n",
      "FP:  29\n",
      "FN:  1\n"
     ]
    },
    {
     "data": {
      "image/png": "[encoded data removed]",
      "text/plain": [
       "<Figure size 432x288 with 2 Axes>"
      ]
     },
     "metadata": {
      "needs_background": "light"
     },
     "output_type": "display_data"
    }
   ],
   "source": [
    "conmax = confusion_matrix(y_test, ypr)\n",
    "tn, fp, fn, tp = conmax.ravel()\n",
    "sns.heatmap(data=conmax, annot=True, linewidth=0.7, linecolor=\"k\", fmt=\".0f\", cmap=\"Blues\")\n",
    "print(\"TP: \", tp)\n",
    "print(\"TN: \", tn)\n",
    "print(\"FP: \", fp)\n",
    "print(\"FN: \", fn)"
   ]
  },
  {
   "cell_type": "markdown",
   "metadata": {},
   "source": [
    "### Plot ROC and Check AUC from Best Model Trained"
   ]
  },
  {
   "cell_type": "code",
   "execution_count": 32,
   "metadata": {},
   "outputs": [
    {
     "data": {
      "text/plain": [
       "array([[9.80911420e-01, 1.90885797e-02],\n",
       "       [9.88402590e-01, 1.15974102e-02],\n",
       "       [9.86019721e-01, 1.39802785e-02],\n",
       "       [1.04041274e-02, 9.89595873e-01],\n",
       "       [9.61231234e-01, 3.87687665e-02],\n",
       "       [8.27847519e-01, 1.72152481e-01],\n",
       "       [9.79994522e-01, 2.00054775e-02],\n",
       "       [9.63746796e-01, 3.62532036e-02],\n",
       "       [9.96933622e-01, 3.06637793e-03],\n",
       "       [1.95578197e-02, 9.80442180e-01],\n",
       "       [3.37520754e-02, 9.66247925e-01],\n",
       "       [5.21673671e-02, 9.47832633e-01],\n",
       "       [9.67857609e-01, 3.21423910e-02],\n",
       "       [1.09477677e-02, 9.89052232e-01],\n",
       "       [5.86365782e-06, 9.99994136e-01],\n",
       "       [9.92647290e-01, 7.35271041e-03],\n",
       "       [9.98533574e-01, 1.46642636e-03],\n",
       "       [9.89728714e-01, 1.02712859e-02],\n",
       "       [3.97494304e-02, 9.60250570e-01],\n",
       "       [5.38309535e-01, 4.61690465e-01],\n",
       "       [8.29849785e-03, 9.91701502e-01],\n",
       "       [2.47125026e-02, 9.75287497e-01],\n",
       "       [9.84754971e-01, 1.52450289e-02],\n",
       "       [3.13085144e-06, 9.99996869e-01],\n",
       "       [9.83567110e-01, 1.64328902e-02],\n",
       "       [9.80638420e-01, 1.93615796e-02],\n",
       "       [7.76870975e-02, 9.22312902e-01],\n",
       "       [9.94077238e-01, 5.92276186e-03],\n",
       "       [9.71538940e-01, 2.84610596e-02],\n",
       "       [3.65032829e-02, 9.63496717e-01],\n",
       "       [9.94996232e-01, 5.00376839e-03],\n",
       "       [1.56570229e-02, 9.84342977e-01],\n",
       "       [1.65108284e-05, 9.99983489e-01],\n",
       "       [6.78823719e-03, 9.93211763e-01],\n",
       "       [5.07422172e-01, 4.92577828e-01],\n",
       "       [4.17157886e-01, 5.82842114e-01],\n",
       "       [7.31972044e-03, 9.92680280e-01],\n",
       "       [5.15067380e-01, 4.84932620e-01],\n",
       "       [5.42895266e-03, 9.94571047e-01],\n",
       "       [5.68244705e-02, 9.43175530e-01],\n",
       "       [9.94641211e-01, 5.35878884e-03],\n",
       "       [9.87933025e-01, 1.20669748e-02],\n",
       "       [9.97142037e-01, 2.85796273e-03],\n",
       "       [4.95442373e-03, 9.95045576e-01],\n",
       "       [9.48529182e-03, 9.90514708e-01],\n",
       "       [9.76465267e-01, 2.35347335e-02],\n",
       "       [8.73704690e-02, 9.12629531e-01],\n",
       "       [9.78288356e-01, 2.17116442e-02],\n",
       "       [9.96825657e-01, 3.17434305e-03],\n",
       "       [2.30977273e-02, 9.76902273e-01],\n",
       "       [7.44694220e-01, 2.55305780e-01],\n",
       "       [1.74064430e-02, 9.82593557e-01],\n",
       "       [9.95753000e-01, 4.24700043e-03],\n",
       "       [3.33569547e-02, 9.66643045e-01],\n",
       "       [2.29979162e-02, 9.77002084e-01],\n",
       "       [9.95052597e-01, 4.94740342e-03],\n",
       "       [8.82888308e-02, 9.11711169e-01],\n",
       "       [4.70398503e-01, 5.29601497e-01],\n",
       "       [9.77238225e-01, 2.27617746e-02],\n",
       "       [8.55199466e-02, 9.14480053e-01],\n",
       "       [4.21353452e-02, 9.57864655e-01],\n",
       "       [9.99853542e-01, 1.46457665e-04],\n",
       "       [6.43518072e-01, 3.56481928e-01],\n",
       "       [9.36910944e-01, 6.30890556e-02],\n",
       "       [1.32786012e-02, 9.86721399e-01],\n",
       "       [9.99712031e-01, 2.87969275e-04],\n",
       "       [9.90777959e-01, 9.22204119e-03],\n",
       "       [9.98454970e-01, 1.54502993e-03],\n",
       "       [7.62072820e-03, 9.92379272e-01],\n",
       "       [5.41659728e-02, 9.45834027e-01],\n",
       "       [9.97792903e-01, 2.20709745e-03],\n",
       "       [2.23062155e-02, 9.77693785e-01],\n",
       "       [8.98896261e-01, 1.01103739e-01],\n",
       "       [2.51990948e-02, 9.74800905e-01],\n",
       "       [9.95389679e-01, 4.61032133e-03],\n",
       "       [9.68289307e-01, 3.17106932e-02],\n",
       "       [1.11057172e-01, 8.88942828e-01],\n",
       "       [2.22233758e-02, 9.77776624e-01],\n",
       "       [2.58818699e-02, 9.74118130e-01],\n",
       "       [2.37543862e-02, 9.76245614e-01],\n",
       "       [5.71855728e-06, 9.99994281e-01],\n",
       "       [5.82232324e-03, 9.94177677e-01],\n",
       "       [9.04995266e-01, 9.50047340e-02],\n",
       "       [1.43979029e-02, 9.85602097e-01],\n",
       "       [3.90304305e-01, 6.09695695e-01],\n",
       "       [9.99067639e-01, 9.32360998e-04],\n",
       "       [9.94445918e-01, 5.55408161e-03],\n",
       "       [6.31177018e-03, 9.93688230e-01],\n",
       "       [9.95620280e-01, 4.37972042e-03],\n",
       "       [1.57745150e-02, 9.84225485e-01],\n",
       "       [9.97701337e-01, 2.29866262e-03],\n",
       "       [9.87069536e-01, 1.29304641e-02],\n",
       "       [9.89165541e-01, 1.08344590e-02],\n",
       "       [6.09742077e-01, 3.90257923e-01],\n",
       "       [9.79672909e-01, 2.03270912e-02],\n",
       "       [5.35117191e-03, 9.94648828e-01],\n",
       "       [9.80793402e-01, 1.92065980e-02],\n",
       "       [9.93362704e-01, 6.63729550e-03],\n",
       "       [9.82151145e-01, 1.78488546e-02],\n",
       "       [9.91495516e-01, 8.50448396e-03],\n",
       "       [7.25104689e-01, 2.74895311e-01],\n",
       "       [1.59096526e-01, 8.40903474e-01],\n",
       "       [9.94254738e-01, 5.74526225e-03],\n",
       "       [1.67968623e-02, 9.83203138e-01],\n",
       "       [6.63600079e-01, 3.36399921e-01],\n",
       "       [1.03838078e-02, 9.89616192e-01],\n",
       "       [1.76785280e-02, 9.82321472e-01],\n",
       "       [2.63526543e-02, 9.73647346e-01],\n",
       "       [3.63805482e-02, 9.63619452e-01],\n",
       "       [9.93576410e-01, 6.42359015e-03],\n",
       "       [9.57454545e-01, 4.25454550e-02],\n",
       "       [3.73232033e-02, 9.62676797e-01],\n",
       "       [9.55513949e-01, 4.44860508e-02],\n",
       "       [8.59586526e-01, 1.40413474e-01],\n",
       "       [2.72959044e-03, 9.97270410e-01],\n",
       "       [7.24658176e-03, 9.92753418e-01],\n",
       "       [4.53605576e-02, 9.54639442e-01],\n",
       "       [2.35238054e-02, 9.76476195e-01],\n",
       "       [2.00879291e-02, 9.79912071e-01],\n",
       "       [1.40442509e-02, 9.85955749e-01],\n",
       "       [5.83164113e-03, 9.94168359e-01],\n",
       "       [6.32782389e-01, 3.67217611e-01],\n",
       "       [9.87131722e-01, 1.28682777e-02],\n",
       "       [9.92303637e-01, 7.69636346e-03],\n",
       "       [8.56173490e-03, 9.91438265e-01],\n",
       "       [3.07062166e-02, 9.69293783e-01],\n",
       "       [9.97548271e-01, 2.45172944e-03],\n",
       "       [7.64761157e-01, 2.35238843e-01],\n",
       "       [7.54622578e-01, 2.45377422e-01],\n",
       "       [2.35891072e-02, 9.76410893e-01],\n",
       "       [9.84175947e-01, 1.58240527e-02],\n",
       "       [9.98140129e-01, 1.85987054e-03],\n",
       "       [9.97455132e-01, 2.54486816e-03],\n",
       "       [9.91084167e-01, 8.91583339e-03],\n",
       "       [1.45457478e-05, 9.99985454e-01],\n",
       "       [8.61833397e-01, 1.38166603e-01],\n",
       "       [9.95750328e-01, 4.24967154e-03],\n",
       "       [1.34534102e-02, 9.86546590e-01],\n",
       "       [9.95588694e-01, 4.41130620e-03],\n",
       "       [3.70789281e-02, 9.62921072e-01],\n",
       "       [3.48688524e-01, 6.51311476e-01],\n",
       "       [6.11013706e-03, 9.93889863e-01],\n",
       "       [9.85587230e-01, 1.44127701e-02],\n",
       "       [9.99540009e-01, 4.59991476e-04],\n",
       "       [9.64467330e-01, 3.55326696e-02],\n",
       "       [9.99318814e-01, 6.81186252e-04],\n",
       "       [2.23886078e-02, 9.77611392e-01],\n",
       "       [9.91958705e-01, 8.04129517e-03],\n",
       "       [9.67547522e-01, 3.24524777e-02],\n",
       "       [9.77959440e-01, 2.20405598e-02],\n",
       "       [9.93338523e-01, 6.66147746e-03],\n",
       "       [3.32566672e-02, 9.66743333e-01],\n",
       "       [6.65334381e-06, 9.99993347e-01],\n",
       "       [9.61476086e-01, 3.85239141e-02],\n",
       "       [9.98075808e-01, 1.92419168e-03],\n",
       "       [8.89602256e-02, 9.11039774e-01],\n",
       "       [8.08066915e-01, 1.91933085e-01],\n",
       "       [9.97618019e-01, 2.38198069e-03],\n",
       "       [9.96557563e-01, 3.44243659e-03],\n",
       "       [9.51719683e-01, 4.82803172e-02],\n",
       "       [5.69071539e-01, 4.30928461e-01],\n",
       "       [7.15511299e-01, 2.84488701e-01],\n",
       "       [8.03006860e-03, 9.91969931e-01],\n",
       "       [6.21505832e-03, 9.93784942e-01],\n",
       "       [3.81176217e-01, 6.18823783e-01],\n",
       "       [8.06020643e-01, 1.93979357e-01],\n",
       "       [4.67264588e-03, 9.95327354e-01],\n",
       "       [9.96209699e-01, 3.79030136e-03],\n",
       "       [2.80019756e-02, 9.71998024e-01],\n",
       "       [9.76753929e-01, 2.32460711e-02],\n",
       "       [9.93922765e-01, 6.07723500e-03],\n",
       "       [1.90581447e-02, 9.80941855e-01],\n",
       "       [2.88258459e-02, 9.71174154e-01],\n",
       "       [1.58730723e-02, 9.84126928e-01],\n",
       "       [9.86358858e-01, 1.36411417e-02],\n",
       "       [1.99984074e-02, 9.80001593e-01],\n",
       "       [9.93155525e-01, 6.84447480e-03],\n",
       "       [1.76550467e-01, 8.23449533e-01],\n",
       "       [8.25014248e-01, 1.74985752e-01],\n",
       "       [8.88424105e-01, 1.11575895e-01],\n",
       "       [9.83570422e-01, 1.64295775e-02],\n",
       "       [9.89531065e-01, 1.04689348e-02],\n",
       "       [3.96216344e-03, 9.96037837e-01],\n",
       "       [9.65933336e-01, 3.40666642e-02],\n",
       "       [1.63800007e-02, 9.83619999e-01],\n",
       "       [4.26373603e-01, 5.73626397e-01],\n",
       "       [9.94622041e-01, 5.37795916e-03],\n",
       "       [1.80433393e-05, 9.99981957e-01],\n",
       "       [9.88472834e-01, 1.15271662e-02],\n",
       "       [9.99324770e-01, 6.75230281e-04],\n",
       "       [9.96049094e-01, 3.95090623e-03],\n",
       "       [9.95176076e-01, 4.82392353e-03],\n",
       "       [9.86131823e-01, 1.38681774e-02],\n",
       "       [6.48983617e-01, 3.51016383e-01],\n",
       "       [9.91640217e-01, 8.35978298e-03],\n",
       "       [9.92751648e-01, 7.24835191e-03],\n",
       "       [3.85217018e-02, 9.61478298e-01],\n",
       "       [1.99076521e-02, 9.80092348e-01],\n",
       "       [6.31892159e-01, 3.68107841e-01],\n",
       "       [9.03403600e-03, 9.90965964e-01],\n",
       "       [2.00831608e-02, 9.79916839e-01],\n",
       "       [9.81307801e-01, 1.86921990e-02],\n",
       "       [3.69246897e-03, 9.96307531e-01],\n",
       "       [9.04307433e-02, 9.09569257e-01],\n",
       "       [8.71399239e-01, 1.28600761e-01],\n",
       "       [1.82119009e-01, 8.17880991e-01],\n",
       "       [2.58836179e-02, 9.74116382e-01],\n",
       "       [9.92071881e-01, 7.92811878e-03],\n",
       "       [4.68303188e-03, 9.95316968e-01],\n",
       "       [9.82408315e-01, 1.75916850e-02],\n",
       "       [9.73113924e-01, 2.68860759e-02],\n",
       "       [1.36191467e-02, 9.86380853e-01],\n",
       "       [7.60691309e-02, 9.23930869e-01],\n",
       "       [7.61320715e-02, 9.23867929e-01],\n",
       "       [9.86487417e-01, 1.35125833e-02],\n",
       "       [9.75146128e-01, 2.48538719e-02],\n",
       "       [9.98283345e-01, 1.71665526e-03],\n",
       "       [9.92530121e-01, 7.46987940e-03],\n",
       "       [9.94567964e-01, 5.43203589e-03],\n",
       "       [2.05935230e-02, 9.79406477e-01],\n",
       "       [9.32163685e-01, 6.78363155e-02],\n",
       "       [8.93037351e-01, 1.06962649e-01],\n",
       "       [9.93429961e-01, 6.57003935e-03],\n",
       "       [9.39953652e-01, 6.00463478e-02],\n",
       "       [6.09357158e-02, 9.39064284e-01],\n",
       "       [1.55925073e-02, 9.84407493e-01],\n",
       "       [1.00594012e-02, 9.89940599e-01],\n",
       "       [1.95938004e-02, 9.80406200e-01],\n",
       "       [9.77298884e-01, 2.27011160e-02],\n",
       "       [9.67908810e-01, 3.20911900e-02],\n",
       "       [9.97860671e-01, 2.13932905e-03],\n",
       "       [9.89009499e-01, 1.09905005e-02],\n",
       "       [2.15017605e-02, 9.78498239e-01],\n",
       "       [1.98879667e-02, 9.80112033e-01],\n",
       "       [9.63995915e-01, 3.60040851e-02],\n",
       "       [9.99782493e-01, 2.17507487e-04],\n",
       "       [1.28237053e-08, 9.99999987e-01],\n",
       "       [9.88017046e-01, 1.19829537e-02],\n",
       "       [6.20605888e-02, 9.37939411e-01],\n",
       "       [4.47423962e-06, 9.99995526e-01],\n",
       "       [2.05016912e-02, 9.79498309e-01],\n",
       "       [9.90902051e-01, 9.09794871e-03],\n",
       "       [9.99384782e-01, 6.15218477e-04],\n",
       "       [7.92375850e-02, 9.20762415e-01],\n",
       "       [9.89934817e-01, 1.00651829e-02],\n",
       "       [9.87637056e-01, 1.23629437e-02],\n",
       "       [9.99970126e-01, 2.98743304e-05],\n",
       "       [4.04055764e-01, 5.95944236e-01],\n",
       "       [9.55146325e-01, 4.48536754e-02],\n",
       "       [9.98103951e-01, 1.89604911e-03],\n",
       "       [9.83908715e-01, 1.60912853e-02],\n",
       "       [1.95801384e-02, 9.80419862e-01],\n",
       "       [9.94962910e-01, 5.03709007e-03],\n",
       "       [9.78574582e-01, 2.14254182e-02],\n",
       "       [1.04881438e-02, 9.89511856e-01],\n",
       "       [9.99340054e-01, 6.59946437e-04],\n",
       "       [7.22418721e-03, 9.92775813e-01],\n",
       "       [2.15213316e-02, 9.78478668e-01],\n",
       "       [9.81239648e-01, 1.87603519e-02],\n",
       "       [9.97589587e-01, 2.41041293e-03],\n",
       "       [2.15125323e-02, 9.78487468e-01],\n",
       "       [2.99932810e-01, 7.00067190e-01],\n",
       "       [3.77751114e-02, 9.62224889e-01],\n",
       "       [9.80797212e-01, 1.92027878e-02],\n",
       "       [4.01445193e-02, 9.59855481e-01],\n",
       "       [9.97531555e-01, 2.46844463e-03],\n",
       "       [9.92299034e-01, 7.70096637e-03],\n",
       "       [9.92050833e-01, 7.94916724e-03],\n",
       "       [1.77079696e-02, 9.82292030e-01],\n",
       "       [9.97474967e-01, 2.52503267e-03],\n",
       "       [2.07550329e-02, 9.79244967e-01],\n",
       "       [1.49667877e-02, 9.85033212e-01],\n",
       "       [2.09401902e-01, 7.90598098e-01],\n",
       "       [2.35655315e-02, 9.76434468e-01],\n",
       "       [9.69322484e-01, 3.06775164e-02],\n",
       "       [3.20036291e-02, 9.67996371e-01],\n",
       "       [9.76301481e-01, 2.36985190e-02],\n",
       "       [1.38577726e-05, 9.99986142e-01],\n",
       "       [1.34936714e-02, 9.86506329e-01],\n",
       "       [9.25229728e-01, 7.47702725e-02],\n",
       "       [9.78088620e-01, 2.19113799e-02],\n",
       "       [5.10925161e-03, 9.94890748e-01],\n",
       "       [9.47164992e-03, 9.90528350e-01],\n",
       "       [9.99165569e-01, 8.34430564e-04],\n",
       "       [9.98902667e-01, 1.09733332e-03],\n",
       "       [9.91003940e-01, 8.99605974e-03],\n",
       "       [6.29655680e-03, 9.93703443e-01],\n",
       "       [9.93717226e-01, 6.28277352e-03],\n",
       "       [1.21747683e-02, 9.87825232e-01],\n",
       "       [9.90079145e-01, 9.92085540e-03],\n",
       "       [6.36176577e-02, 9.36382342e-01],\n",
       "       [2.73637876e-02, 9.72636212e-01],\n",
       "       [9.83909571e-01, 1.60904286e-02],\n",
       "       [4.22331361e-03, 9.95776686e-01],\n",
       "       [2.85530151e-02, 9.71446985e-01],\n",
       "       [1.02296621e-02, 9.89770338e-01],\n",
       "       [9.97840084e-01, 2.15991552e-03],\n",
       "       [6.82808546e-01, 3.17191454e-01],\n",
       "       [2.17672627e-02, 9.78232737e-01],\n",
       "       [5.55207592e-01, 4.44792408e-01],\n",
       "       [6.32367605e-03, 9.93676324e-01],\n",
       "       [1.10928414e-01, 8.89071586e-01],\n",
       "       [6.02632861e-03, 9.93973671e-01],\n",
       "       [9.42875467e-01, 5.71245330e-02],\n",
       "       [8.68809732e-03, 9.91311903e-01],\n",
       "       [9.97626195e-01, 2.37380460e-03],\n",
       "       [1.29766495e-02, 9.87023351e-01],\n",
       "       [9.95573628e-01, 4.42637247e-03],\n",
       "       [1.99539997e-01, 8.00460003e-01],\n",
       "       [9.12706509e-03, 9.90872935e-01],\n",
       "       [9.47061514e-01, 5.29384863e-02],\n",
       "       [5.88751845e-01, 4.11248155e-01],\n",
       "       [1.27880709e-02, 9.87211929e-01],\n",
       "       [9.78959866e-01, 2.10401337e-02],\n",
       "       [2.05374143e-02, 9.79462586e-01],\n",
       "       [5.76268279e-03, 9.94237317e-01],\n",
       "       [1.74587140e-02, 9.82541286e-01],\n",
       "       [9.98497015e-01, 1.50298532e-03],\n",
       "       [9.97238635e-01, 2.76136452e-03],\n",
       "       [9.90774977e-01, 9.22502297e-03],\n",
       "       [6.24140528e-02, 9.37585947e-01],\n",
       "       [5.98544362e-01, 4.01455638e-01],\n",
       "       [9.87908801e-01, 1.20911987e-02],\n",
       "       [9.94657744e-01, 5.34225601e-03],\n",
       "       [3.64289212e-03, 9.96357108e-01],\n",
       "       [6.31939486e-03, 9.93680605e-01],\n",
       "       [7.12429196e-01, 2.87570804e-01],\n",
       "       [2.38948492e-01, 7.61051508e-01],\n",
       "       [2.23824792e-02, 9.77617521e-01],\n",
       "       [2.02079915e-02, 9.79792009e-01],\n",
       "       [1.16477418e-02, 9.88352258e-01],\n",
       "       [1.45879548e-02, 9.85412045e-01],\n",
       "       [9.60455303e-03, 9.90395447e-01],\n",
       "       [1.92945233e-02, 9.80705477e-01],\n",
       "       [1.22778240e-01, 8.77221760e-01],\n",
       "       [2.10566842e-02, 9.78943316e-01],\n",
       "       [4.48309482e-02, 9.55169052e-01],\n",
       "       [9.93348988e-01, 6.65101172e-03],\n",
       "       [2.01918427e-02, 9.79808157e-01],\n",
       "       [9.35224629e-01, 6.47753707e-02],\n",
       "       [9.33135177e-01, 6.68648232e-02],\n",
       "       [9.54486021e-01, 4.55139795e-02],\n",
       "       [9.93290160e-01, 6.70984050e-03],\n",
       "       [9.99565704e-01, 4.34296365e-04],\n",
       "       [9.99390205e-01, 6.09795070e-04],\n",
       "       [9.86892304e-01, 1.31076955e-02],\n",
       "       [1.30125709e-01, 8.69874291e-01],\n",
       "       [9.97488008e-01, 2.51199202e-03],\n",
       "       [2.24650955e-02, 9.77534905e-01],\n",
       "       [3.51981287e-02, 9.64801871e-01],\n",
       "       [9.97541924e-01, 2.45807592e-03],\n",
       "       [9.17332448e-01, 8.26675522e-02],\n",
       "       [9.77635250e-01, 2.23647497e-02],\n",
       "       [3.64814620e-02, 9.63518538e-01],\n",
       "       [1.04871246e-02, 9.89512875e-01],\n",
       "       [6.77844393e-03, 9.93221556e-01],\n",
       "       [9.88740760e-01, 1.12592396e-02],\n",
       "       [3.85325366e-03, 9.96146746e-01],\n",
       "       [6.15063070e-01, 3.84936930e-01],\n",
       "       [9.98712530e-01, 1.28746962e-03],\n",
       "       [9.99705772e-01, 2.94227874e-04],\n",
       "       [2.02316944e-02, 9.79768306e-01],\n",
       "       [2.02660288e-02, 9.79733971e-01],\n",
       "       [2.21408236e-02, 9.77859176e-01],\n",
       "       [4.06367537e-02, 9.59363246e-01],\n",
       "       [9.82571496e-01, 1.74285044e-02],\n",
       "       [8.72515278e-03, 9.91274847e-01],\n",
       "       [9.93112692e-01, 6.88730764e-03],\n",
       "       [5.32494605e-02, 9.46750540e-01],\n",
       "       [9.98990164e-01, 1.00983647e-03],\n",
       "       [9.88034955e-01, 1.19650449e-02],\n",
       "       [7.93841202e-03, 9.92061588e-01],\n",
       "       [1.32120815e-02, 9.86787919e-01],\n",
       "       [8.62557991e-01, 1.37442009e-01],\n",
       "       [9.91181949e-01, 8.81805149e-03],\n",
       "       [6.59800287e-01, 3.40199713e-01],\n",
       "       [1.64954210e-02, 9.83504579e-01]])"
      ]
     },
     "execution_count": 32,
     "metadata": {},
     "output_type": "execute_result"
    }
   ],
   "source": [
    "proba_svc = svc_tuned.predict_proba(X_test)\n",
    "proba_svc"
   ]
  },
  {
   "cell_type": "code",
   "execution_count": 33,
   "metadata": {},
   "outputs": [
    {
     "data": {
      "image/png": "[encoded data removed]",
      "text/plain": [
       "<Figure size 432x288 with 1 Axes>"
      ]
     },
     "metadata": {
      "needs_background": "light"
     },
     "output_type": "display_data"
    }
   ],
   "source": [
    "preds = proba_svc[:,1]\n",
    "fpr, tpr, ths = roc_curve(y_test, preds)\n",
    "roc_auc = auc(fpr, tpr)\n",
    "\n",
    "plt.figure()\n",
    "plt.title(\"Receiver Operating Characteristic\")\n",
    "plt.plot(fpr, tpr, 'b', label = 'AUC = {}'.format(round(roc_auc, 2)))\n",
    "plt.legend(loc = 'lower right')\n",
    "plt.plot([0,1], [0,1], 'r--')\n",
    "plt.xlim([0,1])\n",
    "plt.ylim([0,1])\n",
    "plt.ylabel('True Positive Rate')\n",
    "plt.xlabel('False Positive Rate')\n",
    "plt.show()"
   ]
  },
  {
   "cell_type": "markdown",
   "metadata": {},
   "source": [
    "<hr>\n",
    "\n",
    "### Deploy model to joblib"
   ]
  },
  {
   "cell_type": "code",
   "execution_count": 34,
   "metadata": {},
   "outputs": [
    {
     "data": {
      "text/plain": [
       "['model_svc_tuned']"
      ]
     },
     "execution_count": 34,
     "metadata": {},
     "output_type": "execute_result"
    }
   ],
   "source": [
    "joblib.dump(svc_tuned, \"model_svc_tuned\")"
   ]
  },
  {
   "cell_type": "code",
   "execution_count": 35,
   "metadata": {},
   "outputs": [
    {
     "data": {
      "text/plain": [
       "['scale data']"
      ]
     },
     "execution_count": 35,
     "metadata": {},
     "output_type": "execute_result"
    }
   ],
   "source": [
    "joblib.dump(scaler, \"scale data\")"
   ]
  },
  {
   "cell_type": "code",
   "execution_count": null,
   "metadata": {},
   "outputs": [],
   "source": []
  }
 ],
 "metadata": {
  "kernelspec": {
   "display_name": "Python 3",
   "language": "python",
   "name": "python3"
  },
  "language_info": {
   "codemirror_mode": {
    "name": "ipython",
    "version": 3
   },
   "file_extension": ".py",
   "mimetype": "text/x-python",
   "name": "python",
   "nbconvert_exporter": "python",
   "pygments_lexer": "ipython3",
   "version": "3.7.6"
  }
 },
 "nbformat": 4,
 "nbformat_minor": 4
}
